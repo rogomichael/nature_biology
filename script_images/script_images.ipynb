{
 "cells": [
  {
   "cell_type": "code",
   "execution_count": null,
   "id": "5ef217e0",
   "metadata": {},
   "outputs": [],
   "source": [
    "from scipy.special import expit as sigmoid, logit as inverse_sigmoid #Extracting individual predicted values\n",
    "from sklearn.metrics import accuracy_score\n",
    "from xgboost import XGBClassifier\n",
    "from collections import Counter \n",
    "import matplotlib.pyplot as plt\n",
    "import pandas as pd\n",
    "import numpy as np\n",
    "from xgboost import cv\n",
    "import xgboost as xgb\n",
    "import os\n",
    "import shap #Explainable model\n",
    "\n",
    "#Define the path\n",
    "path=os.getcwd()\n"
   ]
  },
  {
   "cell_type": "markdown",
   "id": "e06b95ee",
   "metadata": {},
   "source": [
    "## All Models Log Loss Evaluation Metrics"
   ]
  },
  {
   "cell_type": "code",
   "execution_count": null,
   "id": "4a758744",
   "metadata": {},
   "outputs": [],
   "source": [
    "import plotly\n",
    "import kaleido\n",
    "import plotly.express as px\n",
    "import plotly.graph_objects as go\n",
    "\n",
    "\n",
    "df1 = pd.read_excel(\"logloss1.xlsx\")\n",
    "df2 = df1.iloc[:,1:]\n",
    "colors = [ 'red', 'blue', 'green']\n",
    "\n",
    "fig = go.Figure()\n",
    "for i, col in enumerate(df2):\n",
    "    fig.add_traces(go.Scatter(x=df1.Model, y = df2[col].values,\n",
    "                              mode = 'markers',\n",
    "                              name = col,\n",
    "                              marker=dict(color=colors[i])))\n",
    "fig.update_traces(marker_size=15)\n",
    "\n",
    "fig.update_layout( scattergap=0.75,\n",
    "    plot_bgcolor = \"white\")\n",
    "\n",
    "fig.update_layout(title={\n",
    "    'text': \"<b>Evaluation Metrics for AIV Models </b>\",\n",
    "    'y':0.78,\n",
    "    'x':0.45,\n",
    "    'xanchor': 'center',\n",
    "    'yanchor': 'top'})#,\n",
    "    #width=650, height=400)\n",
    "fig.update_xaxes(title_text='Model', showline=True, linewidth=2, linecolor='black', mirror=True)\n",
    "fig.update_yaxes(title_text='Logloss', showline=True, linewidth=2, linecolor='black', mirror=True)\n",
    "fig.write_image(\"images/mlogloss_all_models.png\", width=600, height=350, scale=2)\n"
   ]
  },
  {
   "cell_type": "code",
   "execution_count": null,
   "id": "c706beec",
   "metadata": {},
   "outputs": [],
   "source": [
    "#View the Image inline\n",
    "from IPython.display import Image\n",
    "img_bytes = fig.to_image(format=\"jpg\", width=600, height=350, scale=2,  engine=\"kaleido\")\n",
    "Image(img_bytes)\n"
   ]
  },
  {
   "cell_type": "markdown",
   "id": "b219ac97",
   "metadata": {},
   "source": [
    "# Model one SHAP Analysis   (No Wild birds used as features)"
   ]
  },
  {
   "cell_type": "code",
   "execution_count": null,
   "id": "16ee91f1",
   "metadata": {},
   "outputs": [],
   "source": [
    "#Load the model\n",
    "bst1 = xgb.Booster({'nthread': 4}) #init model\n",
    "bst1.load_model('../model1_code/xgb1.model')"
   ]
  },
  {
   "cell_type": "code",
   "execution_count": null,
   "id": "1a041373",
   "metadata": {},
   "outputs": [],
   "source": [
    "#Load Train and Test files\n",
    "train_df = pd.read_excel(\"../m1train.xlsx\")\n",
    "test_df = pd.read_excel(\"../m1test.xlsx\")\n",
    "X_train = train_df.iloc[:,3:-1] #Training\n",
    "y_train = train_df.iloc[:,-1:]\n",
    "\n",
    "#Test\n",
    "X_test = test_df.iloc[:,3:-1]\n",
    "X_test_raw = test_df.iloc[:,3:-1]\n",
    "y_test = test_df.iloc[:,-1:]\n",
    "y_test_raw = test_df.iloc[:,-1:]\n",
    "\n",
    "valid= train_df[train_df['Year'] == 2021]\n",
    "dvalid_data = valid.iloc[:,3:-1]\n",
    "dvalid_label = valid.iloc[:,-1:]\n",
    "dvalid = xgb.DMatrix(dvalid_data, label=dvalid_label, missing=-999.0)"
   ]
  },
  {
   "cell_type": "code",
   "execution_count": null,
   "id": "542f5594",
   "metadata": {},
   "outputs": [],
   "source": [
    "#Run SHAP model\n",
    "explainer = shap.TreeExplainer(bst1)\n",
    "shap_values = explainer.shap_values(X_train)\n",
    "#print(shap_values)\n",
    "feature_names = [a + \": \" + str(b) for a,b in zip(X_train.columns, np.abs(shap_values).mean(0).round(2))]\n",
    "shap.summary_plot(shap_values, \n",
    "                  features=X_train, \n",
    "                #cmap = plt.get_cmap(\"summer\"),\n",
    "                  cmap = plt.get_cmap(\"plasma\"),\n",
    "                  feature_names=feature_names,\n",
    "                  show=False\n",
    "                )\n",
    "plt.gcf().set_size_inches(20,6)\n",
    "plt.tight_layout()\n",
    "plt.show()"
   ]
  },
  {
   "cell_type": "markdown",
   "id": "a2416eb9",
   "metadata": {},
   "source": [
    "####  M1 Bar Plot"
   ]
  },
  {
   "cell_type": "code",
   "execution_count": null,
   "id": "c1ea3f49",
   "metadata": {},
   "outputs": [],
   "source": [
    "df = pd.read_excel(\"model1_bargraph.xlsx\")\n",
    "x = df[\"Variables\"]\n",
    "y = df[\"Percentage\"]\n",
    "color=[\"green\", \"orange\", \"blue\", \"purple\", \"violet\", \"red\"]\n",
    "plt.figure(figsize=(5,3))\n",
    "plt.title(\"Percentage SHAP Contribution for each category\", fontsize=10)\n",
    "plt.xlabel(\"SHAP (Percentage)\")\n",
    "#plt.ylabel(\"Feature Category\")\n",
    "revcolor = color[::-1]\n",
    "plt.barh(x,y, color=revcolor)\n",
    "plt.tight_layout()\n",
    "plt.savefig(\"images/model1_shapCat.png\", dpi=500)\n",
    "\n"
   ]
  },
  {
   "cell_type": "markdown",
   "id": "ca5a851d",
   "metadata": {},
   "source": [
    "# Model Two SHAP Analysis  (Wild Birds used as features)"
   ]
  },
  {
   "cell_type": "code",
   "execution_count": null,
   "id": "f91975c2",
   "metadata": {},
   "outputs": [],
   "source": [
    "#Load M2 Model\n",
    "bst2 = xgb.Booster({'nthread': 4}) #init model\n",
    "bst2.load_model('../model2_code/model2xgb.model')\n",
    "print(\"Successfully loaded the models.....\")"
   ]
  },
  {
   "cell_type": "code",
   "execution_count": null,
   "id": "faccaa8a",
   "metadata": {},
   "outputs": [],
   "source": [
    "#Load Train and Test Excel files\n",
    "train_df2 = pd.read_excel(\"../m2train.xlsx\")\n",
    "test_df2 = pd.read_excel(\"../m2test.xlsx\")\n",
    "X_train2 = train_df2.iloc[:,3:] #Training\n",
    "y_train2 = train_df2.iloc[:,2:3]"
   ]
  },
  {
   "cell_type": "code",
   "execution_count": null,
   "id": "127bfbfc",
   "metadata": {},
   "outputs": [],
   "source": [
    "X_test2 = test_df2.iloc[:,3:]\n",
    "X_test2_mat = xgb.DMatrix(X_test2)\n",
    "X_test_raw2 = test_df2.iloc[:,3:]\n",
    "y_test2 = test_df2.iloc[:,2:3]\n",
    "y_test_raw2 = test_df2.iloc[:,2:3]\n",
    "\n",
    "#Validation_set\n",
    "valid2= train_df2[train_df2['Year'] == 2021]\n",
    "dvalid_data2 = valid2.iloc[:,3:]\n",
    "dvalid_label2 = valid2.iloc[:,2:3]\n",
    "print(\"Finished Loading data....\")"
   ]
  },
  {
   "cell_type": "code",
   "execution_count": null,
   "id": "98cd46e5",
   "metadata": {},
   "outputs": [],
   "source": [
    "explainer = shap.TreeExplainer(bst2)\n",
    "shap_values2 = explainer.shap_values(X_train2)\n",
    "#print(shap_values)\n",
    "feature_names = [a + \": \" + str(b) for a,b in zip(X_train2.columns, np.abs(shap_values2).mean(0).round(2))]\n",
    "shap.summary_plot(shap_values2, \n",
    "                  features=X_train2, \n",
    "                #cmap = plt.get_cmap(\"summer\"),\n",
    "                  cmap = plt.get_cmap(\"plasma\"),\n",
    "                  feature_names=feature_names,\n",
    "                  show=False\n",
    "                )\n",
    "plt.gcf().set_size_inches(20,6)\n",
    "plt.show()"
   ]
  },
  {
   "cell_type": "markdown",
   "id": "88672f44",
   "metadata": {},
   "source": [
    "#### M1 Bar Plot"
   ]
  },
  {
   "cell_type": "code",
   "execution_count": null,
   "id": "5df2f322",
   "metadata": {},
   "outputs": [],
   "source": [
    "df = pd.read_excel(\"model2_bargraph.xlsx\")\n",
    "x = df[\"Variables\"]\n",
    "y = df[\"Percentage\"]\n",
    "color=[\"green\", \"orange\", \"blue\", \"purple\", \"gray\", \"violet\", \"red\"]\n",
    "revcolor = color[::-1]\n",
    "plt.figure(figsize=(5,3))\n",
    "plt.title(\"Percentage SHAP Contribution for each category\",fontsize=10)\n",
    "plt.xlabel(\"SHAP (Percentage)\")\n",
    "#plt.ylabel(\"Feature Category\")\n",
    "plt.barh(x,y, color=revcolor)\n",
    "#plt.savefig(\"model2_bargraph.png\")\n",
    "plt.tight_layout()\n",
    "plt.savefig(\"images/model2_shapCat.png\", dpi=500)"
   ]
  },
  {
   "cell_type": "markdown",
   "id": "07f34639",
   "metadata": {},
   "source": [
    "# Model Three (Wild Bird Labels switched off)"
   ]
  },
  {
   "cell_type": "code",
   "execution_count": null,
   "id": "db8ddd4c",
   "metadata": {},
   "outputs": [],
   "source": [
    "#Load M3\n",
    "bst3 = xgb.Booster({'nthread': 4}) #init model\n",
    "bst3.load_model('../model3_code/model3xgb.model')\n",
    "print(\"Successfully loaded the models.....\")"
   ]
  },
  {
   "cell_type": "code",
   "execution_count": null,
   "id": "ca50b9ca",
   "metadata": {},
   "outputs": [],
   "source": [
    "#Load Train and Test Excel files\n",
    "train_df3 = pd.read_excel(\"../m3train.xlsx\")\n",
    "test_df3 = pd.read_excel(\"../m3test.xlsx\")\n",
    "X_train3 = train_df3.iloc[:,3:] #Training\n",
    "y_train3 = train_df3.iloc[:,2:3]\n",
    "#print(\"Training data\\n\\n\\n\\n\", X_train)\n",
    "#print(\"Training labels\\n\\n\\n\\n\", y_train)"
   ]
  },
  {
   "cell_type": "code",
   "execution_count": null,
   "id": "a8a7e856",
   "metadata": {},
   "outputs": [],
   "source": [
    "#Test \n",
    "X_test3 = test_df3.iloc[:,3:]\n",
    "X_test_raw3 = test_df3.iloc[:,3:]\n",
    "y_test3 = test_df3.iloc[:,2:3]\n",
    "y_test_raw3 = test_df3.iloc[:,2:3]\n",
    "\n",
    "#Validation_set\n",
    "valid3= train_df3[train_df3['Year'] == 2021]\n",
    "dvalid_data3 = valid3.iloc[:,3:]\n",
    "dvalid_label3 = valid3.iloc[:,2:3]\n",
    "print(\"Finished Loading data...\")"
   ]
  },
  {
   "cell_type": "code",
   "execution_count": null,
   "id": "c737e4be",
   "metadata": {},
   "outputs": [],
   "source": [
    "explainer = shap.TreeExplainer(bst3)\n",
    "shap_values3x = explainer(X_train3)\n",
    "shap_values3 = explainer.shap_values(X_train3)\n",
    "#print(shap_values)\n",
    "feature_names = [a + \": \" + str(b) for a,b in zip(X_train3.columns, np.abs(shap_values3).mean(0).round(2))]\n",
    "shap.summary_plot(shap_values3, \n",
    "                  features=X_train3, \n",
    "                #cmap = plt.get_cmap(\"summer\"),\n",
    "                  cmap = plt.get_cmap(\"plasma\"),\n",
    "                  feature_names=feature_names,\n",
    "                  show=False\n",
    "                )\n",
    "plt.gcf().set_size_inches(20,7)\n",
    "plt.show()"
   ]
  },
  {
   "cell_type": "code",
   "execution_count": null,
   "id": "ef7c3392",
   "metadata": {},
   "outputs": [],
   "source": [
    "df = pd.read_excel(\"model3_bargraph.xlsx\")\n",
    "x = df[\"Variables\"]\n",
    "y = df[\"Percentage\"]\n",
    "color=[\"green\", \"orange\", \"blue\", \"violet\", \"purple\", \"gray\", \"red\"]\n",
    "revcolor = color[::-1]\n",
    "plt.figure(figsize=(5,3))\n",
    "plt.title(\"Percentage SHAP Contribution for each category\", fontsize = 10)\n",
    "plt.xlabel(\"SHAP (Percentage)\")\n",
    "#plt.ylabel(\"Feature Category\")\n",
    "plt.barh(x,y, color=revcolor)\n",
    "plt.tight_layout()\n",
    "plt.savefig(\"images/model3_shapCat.png\", dpi=500)"
   ]
  },
  {
   "cell_type": "code",
   "execution_count": null,
   "id": "d4663072",
   "metadata": {},
   "outputs": [],
   "source": []
  }
 ],
 "metadata": {
  "kernelspec": {
   "display_name": "Python 3 (ipykernel)",
   "language": "python",
   "name": "python3"
  },
  "language_info": {
   "codemirror_mode": {
    "name": "ipython",
    "version": 3
   },
   "file_extension": ".py",
   "mimetype": "text/x-python",
   "name": "python",
   "nbconvert_exporter": "python",
   "pygments_lexer": "ipython3",
   "version": "3.11.4"
  }
 },
 "nbformat": 4,
 "nbformat_minor": 5
}
